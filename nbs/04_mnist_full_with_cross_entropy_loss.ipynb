{
 "cells": [
  {
   "cell_type": "markdown",
   "metadata": {},
   "source": [
    "# Cross entropy loss with MNIST_FULL dataset"
   ]
  },
  {
   "cell_type": "markdown",
   "metadata": {},
   "source": [
    "**Objective:** In this notebook, I want to classify the full ten digits of the MNIST dataset (Q2 in \"Further Research\" section of Chapter 4 of the [textbook](https://www.amazon.com/Deep-Learning-Coders-fastai-PyTorch/dp/1492045527). This is a key exercise to implement and understand as the lessons learned can then be extended to practically ANY classification application.\n",
    "\n",
    "Note that this notebook follows [this earlier notebook that classified two digits from the MNIST_SAMPLE dataset using the `cross_entropy` loss function](https://rkishore.github.io/2021/02/11/mnist_basics_with_cross_entropy_loss.html). In particular, the key additional learning was to define the `batch_accuracy` function for N columns of activations from the final layer of the model.\n",
    "\n",
    "Note that the original [MNIST dataset] (http://yann.lecun.com/exdb/mnist/) is a classic dataset of small (28x28 pixels), handwritten grayscale digits developed in the 1990s. The version we use here from fast.ai uses a standard PNG format instead of the special binary format of the original, making it easier to work with. "
   ]
  },
  {
   "cell_type": "markdown",
   "metadata": {},
   "source": [
    "### Get the basic imports out of the way"
   ]
  },
  {
   "cell_type": "code",
   "execution_count": 1,
   "metadata": {},
   "outputs": [],
   "source": [
    "from fastai.vision.all import *"
   ]
  },
  {
   "cell_type": "code",
   "execution_count": 2,
   "metadata": {},
   "outputs": [],
   "source": [
    "import fastbook\n",
    "fastbook.setup_book()\n",
    "from fastbook import *"
   ]
  },
  {
   "cell_type": "markdown",
   "metadata": {},
   "source": [
    "### Get your data ready"
   ]
  },
  {
   "cell_type": "code",
   "execution_count": 3,
   "metadata": {},
   "outputs": [],
   "source": [
    "path = untar_data(URLs.MNIST)"
   ]
  },
  {
   "cell_type": "code",
   "execution_count": 4,
   "metadata": {},
   "outputs": [
    {
     "data": {
      "text/plain": [
       "(#2) [Path('/home/igolgi/.fastai/data/mnist_png/testing'),Path('/home/igolgi/.fastai/data/mnist_png/training')]"
      ]
     },
     "execution_count": 4,
     "metadata": {},
     "output_type": "execute_result"
    }
   ],
   "source": [
    "path.ls()"
   ]
  },
  {
   "cell_type": "markdown",
   "metadata": {},
   "source": [
    "### Enumerate and record the image paths"
   ]
  },
  {
   "cell_type": "code",
   "execution_count": 6,
   "metadata": {},
   "outputs": [],
   "source": [
    "MAX_CATEGORIES = 10"
   ]
  },
  {
   "cell_type": "code",
   "execution_count": 7,
   "metadata": {},
   "outputs": [],
   "source": [
    "train_imgs = [Path(str(path/'training') + '/%s/' % (i,)).ls().sorted() for i in range(MAX_CATEGORIES)]\n",
    "test_imgs = [Path(str(path/'testing') + '/%s/' % (i,)).ls().sorted() for i in range(MAX_CATEGORIES)]"
   ]
  },
  {
   "cell_type": "markdown",
   "metadata": {},
   "source": [
    "#### Read in the images and convert them to tensors"
   ]
  },
  {
   "cell_type": "code",
   "execution_count": 8,
   "metadata": {},
   "outputs": [],
   "source": [
    "train_tensors = [[tensor(Image.open(img)) for img in train_imgs[i]] for i in range(MAX_CATEGORIES)]\n",
    "test_tensors = [[tensor(Image.open(img)) for img in test_imgs[i]] for i in range(MAX_CATEGORIES)]"
   ]
  },
  {
   "cell_type": "code",
   "execution_count": 9,
   "metadata": {},
   "outputs": [
    {
     "data": {
      "text/plain": [
       "<AxesSubplot:>"
      ]
     },
     "execution_count": 9,
     "metadata": {},
     "output_type": "execute_result"
    },
    {
     "data": {
      "image/png": "[encoded data removed]",
      "text/plain": [
       "<Figure size 72x72 with 1 Axes>"
      ]
     },
     "metadata": {
      "needs_background": "light"
     },
     "output_type": "display_data"
    }
   ],
   "source": [
    "show_image(train_tensors[0][0])"
   ]
  },
  {
   "cell_type": "code",
   "execution_count": 10,
   "metadata": {},
   "outputs": [
    {
     "data": {
      "text/plain": [
       "<AxesSubplot:>"
      ]
     },
     "execution_count": 10,
     "metadata": {},
     "output_type": "execute_result"
    },
    {
     "data": {
      "image/png": "[encoded data removed]",
      "text/plain": [
       "<Figure size 72x72 with 1 Axes>"
      ]
     },
     "metadata": {
      "needs_background": "light"
     },
     "output_type": "display_data"
    }
   ],
   "source": [
    "show_image(train_tensors[1][0])"
   ]
  },
  {
   "cell_type": "code",
   "execution_count": 11,
   "metadata": {},
   "outputs": [
    {
     "data": {
      "text/plain": [
       "<AxesSubplot:>"
      ]
     },
     "execution_count": 11,
     "metadata": {},
     "output_type": "execute_result"
    },
    {
     "data": {
      "image/png": "[encoded data removed]",
      "text/plain": [
       "<Figure size 72x72 with 1 Axes>"
      ]
     },
     "metadata": {
      "needs_background": "light"
     },
     "output_type": "display_data"
    }
   ],
   "source": [
    "show_image(train_tensors[5][0])"
   ]
  },
  {
   "cell_type": "code",
   "execution_count": 12,
   "metadata": {},
   "outputs": [
    {
     "data": {
      "text/plain": [
       "torch.Size([5923, 28, 28])"
      ]
     },
     "execution_count": 12,
     "metadata": {},
     "output_type": "execute_result"
    }
   ],
   "source": [
    "stacked_train_tensors = torch.stack(train_tensors[0]).float()/255.\n",
    "stacked_train_tensors.shape"
   ]
  },
  {
   "cell_type": "code",
   "execution_count": 13,
   "metadata": {},
   "outputs": [],
   "source": [
    "stacked_train_tensors = [torch.stack(train_tensors[i]).float()/255. for i in range(MAX_CATEGORIES)]\n",
    "stacked_test_tensors = [torch.stack(test_tensors[i]).float()/255. for i in range(MAX_CATEGORIES)]"
   ]
  },
  {
   "cell_type": "code",
   "execution_count": 14,
   "metadata": {},
   "outputs": [
    {
     "data": {
      "text/plain": [
       "torch.Size([5923, 28, 28])"
      ]
     },
     "execution_count": 14,
     "metadata": {},
     "output_type": "execute_result"
    }
   ],
   "source": [
    "stacked_train_tensors[0].shape"
   ]
  },
  {
   "cell_type": "code",
   "execution_count": 15,
   "metadata": {},
   "outputs": [
    {
     "data": {
      "text/plain": [
       "torch.Size([60000, 28, 28])"
      ]
     },
     "execution_count": 15,
     "metadata": {},
     "output_type": "execute_result"
    }
   ],
   "source": [
    "train_x = torch.cat(stacked_train_tensors); train_x.shape"
   ]
  },
  {
   "cell_type": "markdown",
   "metadata": {},
   "source": [
    "So, in the training data, there are a total of 60000 images of 28x28 pixels each for the digits from 0 to 9. Let's \"flatten\" the 28x28 matrices corresponding to each image into one long row of 784 pixel values per image. This representation is easier to deal with as we will see later. Basically, we can then come up with a weight per pixel that has to be learnt in order to classify the ten digits accurately."
   ]
  },
  {
   "cell_type": "code",
   "execution_count": 16,
   "metadata": {},
   "outputs": [
    {
     "data": {
      "text/plain": [
       "torch.Size([60000, 784])"
      ]
     },
     "execution_count": 16,
     "metadata": {},
     "output_type": "execute_result"
    }
   ],
   "source": [
    "train_x = train_x.view(-1, 28*28); train_x.shape"
   ]
  },
  {
   "cell_type": "code",
   "execution_count": 17,
   "metadata": {},
   "outputs": [
    {
     "data": {
      "text/plain": [
       "torch.Size([10000, 28, 28])"
      ]
     },
     "execution_count": 17,
     "metadata": {},
     "output_type": "execute_result"
    }
   ],
   "source": [
    "test_x = torch.cat(stacked_test_tensors); test_x.shape"
   ]
  },
  {
   "cell_type": "markdown",
   "metadata": {},
   "source": [
    "Likewise, for the validation dataset, there are 10000 images of 28x28 pixels each for the digits from 0 to 9. Let's \"flatten\" the 28x28 matrices corresponding to each image into one long row of 784 pixel values per image."
   ]
  },
  {
   "cell_type": "code",
   "execution_count": 18,
   "metadata": {},
   "outputs": [
    {
     "data": {
      "text/plain": [
       "torch.Size([10000, 784])"
      ]
     },
     "execution_count": 18,
     "metadata": {},
     "output_type": "execute_result"
    }
   ],
   "source": [
    "test_x = test_x.view(-1, 28*28); test_x.shape"
   ]
  },
  {
   "cell_type": "markdown",
   "metadata": {},
   "source": [
    "Let us now create the labels for each of these images. Basically, the label for each digit is simply the integer corresponding to that digit. So, all 0 images have a 0 label, all 1 images have a 1 label and so on. "
   ]
  },
  {
   "cell_type": "code",
   "execution_count": 19,
   "metadata": {},
   "outputs": [
    {
     "data": {
      "text/plain": [
       "60000"
      ]
     },
     "execution_count": 19,
     "metadata": {},
     "output_type": "execute_result"
    }
   ],
   "source": [
    "train_y_list = []\n",
    "for i in range(MAX_CATEGORIES):\n",
    "    train_y_list += [i]*len(train_imgs[i])\n",
    "len(train_y_list)"
   ]
  },
  {
   "cell_type": "code",
   "execution_count": 20,
   "metadata": {},
   "outputs": [
    {
     "data": {
      "text/plain": [
       "torch.Size([60000])"
      ]
     },
     "execution_count": 20,
     "metadata": {},
     "output_type": "execute_result"
    }
   ],
   "source": [
    "train_y = tensor(train_y_list); train_y.shape\n",
    "#train_y = tensor([1]*len(train_imgs[0]) + [0]*len(train_imgs[1])); train_y.shape"
   ]
  },
  {
   "cell_type": "markdown",
   "metadata": {},
   "source": [
    "And there are 60000 labels, one for each training image."
   ]
  },
  {
   "cell_type": "markdown",
   "metadata": {},
   "source": [
    "Next, we use the exact same process to label the validation/test images. Note that for both the training and validation label tensor, we don't use `torch.unsqueeze` as in the [earlier notebook](https://rkishore.github.io/2021/02/11/mnist_basics_with_cross_entropy_loss.html) as we don't need it here. The labels `y` being represented by a rank-1 tensor (a vector) works just fine. In fact, you would have noticed in the [earlier notebook](https://rkishore.github.io/2021/02/11/mnist_basics_with_cross_entropy_loss.html) that we have to use `torch.squeeze` in the `batch_accuracy` function so as to get a rank-1 tensor (a vector) from a rank-2 tensor (a matrix)."
   ]
  },
  {
   "cell_type": "code",
   "execution_count": 21,
   "metadata": {},
   "outputs": [
    {
     "data": {
      "text/plain": [
       "torch.Size([10000])"
      ]
     },
     "execution_count": 21,
     "metadata": {},
     "output_type": "execute_result"
    }
   ],
   "source": [
    "test_y_list = []\n",
    "for i in range(MAX_CATEGORIES):\n",
    "    test_y_list += [i]*len(test_imgs[i])\n",
    "#test_y = tensor(test_y_list).unsqueeze(1); test_y.shape\n",
    "test_y = tensor(test_y_list); test_y.shape"
   ]
  },
  {
   "cell_type": "markdown",
   "metadata": {},
   "source": [
    "As expected, there are 10000 labels, one for each validation image."
   ]
  },
  {
   "cell_type": "markdown",
   "metadata": {},
   "source": [
    "### Prepare the dataset and dataloaders"
   ]
  },
  {
   "cell_type": "code",
   "execution_count": 22,
   "metadata": {},
   "outputs": [],
   "source": [
    "dset = list(zip(train_x, train_y))\n",
    "valid_dset = list(zip(test_x, test_y))"
   ]
  },
  {
   "cell_type": "code",
   "execution_count": 23,
   "metadata": {},
   "outputs": [],
   "source": [
    "dl = DataLoader(dset, batch_size=256, shuffle=True)\n",
    "valid_dl = DataLoader(valid_dset, batch_size=256, shuffle=True)"
   ]
  },
  {
   "cell_type": "markdown",
   "metadata": {},
   "source": [
    "### Define key functions"
   ]
  },
  {
   "cell_type": "code",
   "execution_count": 24,
   "metadata": {},
   "outputs": [],
   "source": [
    "# The cross-entropy loss function: we take the log_softmax of the activations returned by the model, and \n",
    "# then use the nll_loss function to select the loss corresponding to the target index\n",
    "def ce_loss(preds, tgts):\n",
    "    preds = torch.log_softmax(preds, dim=1)\n",
    "    return F.nll_loss(preds, tgts)"
   ]
  },
  {
   "cell_type": "code",
   "execution_count": 25,
   "metadata": {},
   "outputs": [],
   "source": [
    "def calc_grad(xb, yb, model, loss_func):\n",
    "    preds = model(xb)\n",
    "    loss = loss_func(preds, yb)\n",
    "    loss.backward()\n",
    "    return loss"
   ]
  },
  {
   "cell_type": "code",
   "execution_count": 26,
   "metadata": {},
   "outputs": [],
   "source": [
    "def train_epoch(model, lr, params, loss_func):\n",
    "    acc_loss = []\n",
    "    for xb, yb in dl:\n",
    "        acc_loss.append(calc_grad(xb, yb, model, loss_func))\n",
    "        for p in params:\n",
    "            p.data -= p.grad*lr\n",
    "            p.grad.zero_()\n",
    "    print(\"Mean loss: \", tensor(acc_loss).mean())"
   ]
  },
  {
   "cell_type": "code",
   "execution_count": 27,
   "metadata": {},
   "outputs": [],
   "source": [
    "def batch_accuracy(xb,yb):\n",
    "    _, preds = torch.max(xb, 1)\n",
    "    correct = (preds == yb)\n",
    "    return correct.float().mean()"
   ]
  },
  {
   "cell_type": "code",
   "execution_count": 28,
   "metadata": {},
   "outputs": [],
   "source": [
    "def validate_epoch(model):\n",
    "    accs = [batch_accuracy(model(xb),yb) for xb,yb in valid_dl]\n",
    "    #print(accs)\n",
    "    return round(torch.stack(accs).mean().item(), 4)"
   ]
  },
  {
   "cell_type": "markdown",
   "metadata": {},
   "source": [
    "### Test on one batch"
   ]
  },
  {
   "cell_type": "code",
   "execution_count": 29,
   "metadata": {},
   "outputs": [],
   "source": [
    "x,y = dl.one_batch()"
   ]
  },
  {
   "cell_type": "code",
   "execution_count": 30,
   "metadata": {},
   "outputs": [
    {
     "data": {
      "text/plain": [
       "tensor([2, 9, 8, 9, 5, 7, 1, 8, 6, 9, 6, 8, 3, 5, 4, 7, 7, 7, 1, 1, 0, 9, 3, 3, 4, 7, 2, 1, 6, 5, 3, 1, 2, 4, 8, 8, 8, 7, 7, 2, 8, 8, 8, 6, 5, 4, 8, 2, 7, 7, 9, 6, 7, 8, 6, 0, 1, 6, 9, 9, 7, 9, 5, 1,\n",
       "        6, 2, 3, 2, 8, 2, 8, 4, 1, 4, 8, 6, 7, 9, 1, 9, 8, 1, 2, 7, 2, 0, 6, 2, 8, 7, 8, 2, 9, 4, 6, 2, 6, 3, 4, 8, 6, 1, 5, 3, 1, 3, 7, 2, 0, 0, 1, 6, 2, 6, 1, 0, 4, 1, 1, 5, 7, 3, 9, 7, 0, 3, 8, 9,\n",
       "        8, 1, 6, 6, 4, 5, 1, 8, 0, 5, 6, 5, 9, 5, 7, 5, 6, 0, 1, 8, 1, 2, 8, 9, 9, 4, 7, 4, 8, 3, 6, 4, 5, 6, 8, 5, 3, 6, 4, 3, 4, 6, 1, 5, 5, 1, 8, 7, 8, 5, 9, 6, 1, 7, 4, 7, 2, 7, 3, 1, 0, 1, 7, 2,\n",
       "        9, 3, 4, 4, 5, 2, 5, 9, 1, 6, 7, 0, 3, 3, 0, 5, 7, 0, 9, 3, 5, 2, 0, 1, 2, 6, 6, 2, 0, 4, 5, 5, 3, 8, 0, 7, 6, 2, 0, 7, 5, 1, 6, 7, 5, 2, 8, 9, 2, 6, 4, 3, 2, 6, 5, 0, 3, 0, 3, 7, 1, 6, 1, 1])"
      ]
     },
     "execution_count": 30,
     "metadata": {},
     "output_type": "execute_result"
    }
   ],
   "source": [
    "y"
   ]
  },
  {
   "cell_type": "code",
   "execution_count": 31,
   "metadata": {},
   "outputs": [
    {
     "data": {
      "text/plain": [
       "tensor([[-0.2932, -0.3405,  0.3322,  0.1191, -0.0160, -0.2307,  0.3889, -0.0661,  0.3204, -0.0289],\n",
       "        [-0.1252, -0.1254,  0.2319,  0.0717, -0.2982, -0.1123,  0.1948, -0.1071,  0.1214, -0.1901],\n",
       "        [-0.4835, -0.3397,  0.2349,  0.1295, -0.3830, -0.2500,  0.6015, -0.4489,  0.2581,  0.0169],\n",
       "        [-0.0691,  0.0671,  0.2555,  0.0100, -0.2683, -0.1499,  0.4475,  0.0905, -0.2517, -0.1111]], grad_fn=<AddmmBackward>)"
      ]
     },
     "execution_count": 31,
     "metadata": {},
     "output_type": "execute_result"
    }
   ],
   "source": [
    "linear_model = nn.Linear(28*28, MAX_CATEGORIES)\n",
    "batch = train_x[:4]\n",
    "preds = linear_model(batch); preds"
   ]
  },
  {
   "cell_type": "code",
   "execution_count": 32,
   "metadata": {},
   "outputs": [
    {
     "data": {
      "text/plain": [
       "tensor(2.2436, grad_fn=<NllLossBackward>)"
      ]
     },
     "execution_count": 32,
     "metadata": {},
     "output_type": "execute_result"
    }
   ],
   "source": [
    "loss = ce_loss(preds, y[:4]); loss"
   ]
  },
  {
   "cell_type": "code",
   "execution_count": 33,
   "metadata": {},
   "outputs": [
    {
     "data": {
      "text/plain": [
       "tensor(0.)"
      ]
     },
     "execution_count": 33,
     "metadata": {},
     "output_type": "execute_result"
    }
   ],
   "source": [
    "batch_accuracy(preds, train_y[:4])"
   ]
  },
  {
   "cell_type": "code",
   "execution_count": 34,
   "metadata": {},
   "outputs": [
    {
     "name": "stdout",
     "output_type": "stream",
     "text": [
      "Mean loss:  tensor(1.5714)\n",
      "Accuracy:  0.8233\n",
      "Mean loss:  tensor(0.9475)\n",
      "Accuracy:  0.8448\n",
      "Mean loss:  tensor(0.7535)\n",
      "Accuracy:  0.8598\n",
      "Mean loss:  tensor(0.6580)\n",
      "Accuracy:  0.8696\n",
      "Mean loss:  tensor(0.6007)\n",
      "Accuracy:  0.8726\n",
      "Mean loss:  tensor(0.5605)\n",
      "Accuracy:  0.8787\n",
      "Mean loss:  tensor(0.5316)\n",
      "Accuracy:  0.8826\n",
      "Mean loss:  tensor(0.5090)\n",
      "Accuracy:  0.882\n",
      "Mean loss:  tensor(0.4909)\n",
      "Accuracy:  0.8832\n",
      "Mean loss:  tensor(0.4762)\n",
      "Accuracy:  0.8845\n",
      "Mean loss:  tensor(0.4636)\n",
      "Accuracy:  0.8846\n",
      "Mean loss:  tensor(0.4533)\n",
      "Accuracy:  0.89\n",
      "Mean loss:  tensor(0.4436)\n",
      "Accuracy:  0.8922\n",
      "Mean loss:  tensor(0.4355)\n",
      "Accuracy:  0.8929\n",
      "Mean loss:  tensor(0.4281)\n",
      "Accuracy:  0.892\n",
      "Mean loss:  tensor(0.4220)\n",
      "Accuracy:  0.8929\n",
      "Mean loss:  tensor(0.4156)\n",
      "Accuracy:  0.8983\n",
      "Mean loss:  tensor(0.4107)\n",
      "Accuracy:  0.8948\n",
      "Mean loss:  tensor(0.4053)\n",
      "Accuracy:  0.9013\n",
      "Mean loss:  tensor(0.4009)\n",
      "Accuracy:  0.9021\n"
     ]
    }
   ],
   "source": [
    "linear_model = nn.Linear(28*28, MAX_CATEGORIES)\n",
    "w,b = linear_model.parameters()\n",
    "params = w,b\n",
    "lr = 1e-2\n",
    "for i in range(20):\n",
    "    train_epoch(linear_model, lr, params, ce_loss)\n",
    "    print(\"Accuracy: \", validate_epoch(linear_model))"
   ]
  },
  {
   "cell_type": "markdown",
   "metadata": {},
   "source": [
    "We see reducing training loss and increasing accuracy. This is what we want to achieve.\n",
    "\n",
    "And, with a simple linear classifier, we get an accuracy of 90.21%! Note that the [original MNIST work from the 1990s](http://yann.lecun.com/exdb/mnist/) reports error rates of 8.4 and 12.0% so we are in the ballpark. We do use 3-channel RGB images here as compared to 1-channel grayscale images they used so this may have something to do with the difference. "
   ]
  },
  {
   "cell_type": "markdown",
   "metadata": {},
   "source": [
    "### Now, let's replace our code with PyTorch/fastai built-in functions and see if we get the same result"
   ]
  },
  {
   "cell_type": "code",
   "execution_count": 39,
   "metadata": {},
   "outputs": [],
   "source": [
    "linear_model = nn.Linear(28*28, MAX_CATEGORIES) # built-in linear classifier function"
   ]
  },
  {
   "cell_type": "code",
   "execution_count": 40,
   "metadata": {},
   "outputs": [],
   "source": [
    "opt = SGD(linear_model.parameters(), lr) # built-in SGD optimizer function"
   ]
  },
  {
   "cell_type": "markdown",
   "metadata": {},
   "source": [
    "Let's redefine the `train_epoch` function to use the optimizer function `opt` defined above (which uses SGD inside)"
   ]
  },
  {
   "cell_type": "code",
   "execution_count": 41,
   "metadata": {},
   "outputs": [],
   "source": [
    "def train_epoch(model):\n",
    "    acc_loss = []\n",
    "    for xb, yb in dl:\n",
    "        acc_loss.append(calc_grad(xb, yb, model, ce_loss))\n",
    "        opt.step()\n",
    "        opt.zero_grad()\n",
    "    print(\"Mean loss: \", tensor(acc_loss).mean())"
   ]
  },
  {
   "cell_type": "markdown",
   "metadata": {},
   "source": [
    "Let's define a `train_model` function to make our life easier (as shown in the textbook)."
   ]
  },
  {
   "cell_type": "code",
   "execution_count": 42,
   "metadata": {},
   "outputs": [],
   "source": [
    "def train_model(model, epochs):\n",
    "    for i in range(epochs):\n",
    "        train_epoch(model)\n",
    "        print(\"Accuracy: \", validate_epoch(model))"
   ]
  },
  {
   "cell_type": "code",
   "execution_count": 44,
   "metadata": {},
   "outputs": [
    {
     "name": "stdout",
     "output_type": "stream",
     "text": [
      "Mean loss:  tensor(1.5554)\n",
      "Accuracy:  0.8134\n",
      "Mean loss:  tensor(0.9509)\n",
      "Accuracy:  0.8435\n",
      "Mean loss:  tensor(0.7575)\n",
      "Accuracy:  0.862\n",
      "Mean loss:  tensor(0.6616)\n",
      "Accuracy:  0.8702\n",
      "Mean loss:  tensor(0.6031)\n",
      "Accuracy:  0.8741\n",
      "Mean loss:  tensor(0.5628)\n",
      "Accuracy:  0.8771\n",
      "Mean loss:  tensor(0.5339)\n",
      "Accuracy:  0.8796\n",
      "Mean loss:  tensor(0.5107)\n",
      "Accuracy:  0.8847\n",
      "Mean loss:  tensor(0.4928)\n",
      "Accuracy:  0.8869\n",
      "Mean loss:  tensor(0.4778)\n",
      "Accuracy:  0.8887\n",
      "Mean loss:  tensor(0.4650)\n",
      "Accuracy:  0.889\n",
      "Mean loss:  tensor(0.4542)\n",
      "Accuracy:  0.8889\n",
      "Mean loss:  tensor(0.4447)\n",
      "Accuracy:  0.8905\n",
      "Mean loss:  tensor(0.4369)\n",
      "Accuracy:  0.8931\n",
      "Mean loss:  tensor(0.4293)\n",
      "Accuracy:  0.8951\n",
      "Mean loss:  tensor(0.4230)\n",
      "Accuracy:  0.8981\n",
      "Mean loss:  tensor(0.4166)\n",
      "Accuracy:  0.896\n",
      "Mean loss:  tensor(0.4115)\n",
      "Accuracy:  0.8972\n",
      "Mean loss:  tensor(0.4067)\n",
      "Accuracy:  0.8964\n",
      "Mean loss:  tensor(0.4018)\n",
      "Accuracy:  0.8943\n"
     ]
    }
   ],
   "source": [
    "linear_model = nn.Linear(28*28, MAX_CATEGORIES)\n",
    "lr = 1e-2\n",
    "opt = SGD(linear_model.parameters(), lr)\n",
    "train_model(linear_model, 20)"
   ]
  },
  {
   "cell_type": "markdown",
   "metadata": {},
   "source": [
    "### Using a neural network instead of a linear classifier"
   ]
  },
  {
   "cell_type": "markdown",
   "metadata": {},
   "source": [
    "Let's define a simple neural network with 3 layers. The first layer is a linear classifier (like the one we saw so far) that aims to capture 30 \"features\". This is followed by a non-linearity (ReLU), which is followed by another linear layer that outputs MAX_CATEGORIES (ten) activations, one per category. We will use this simple neural network instead of the linear classifier, keeping all else the same. \n",
    "\n",
    "In other words, we use the same loss function, the same accuracy function, the same SGD optimizer but just change the underlying \"network architecture\"."
   ]
  },
  {
   "cell_type": "code",
   "execution_count": 48,
   "metadata": {},
   "outputs": [],
   "source": [
    "simple_net = nn.Sequential(\n",
    "    nn.Linear(28*28, 30),\n",
    "    nn.ReLU(),\n",
    "    nn.Linear(30,MAX_CATEGORIES)\n",
    ")"
   ]
  },
  {
   "cell_type": "code",
   "execution_count": 49,
   "metadata": {},
   "outputs": [
    {
     "name": "stdout",
     "output_type": "stream",
     "text": [
      "Mean loss:  tensor(2.0894)\n",
      "Accuracy:  0.6733\n",
      "Mean loss:  tensor(1.4704)\n",
      "Accuracy:  0.7968\n",
      "Mean loss:  tensor(0.9518)\n",
      "Accuracy:  0.846\n",
      "Mean loss:  tensor(0.7077)\n",
      "Accuracy:  0.861\n",
      "Mean loss:  tensor(0.5910)\n",
      "Accuracy:  0.8754\n",
      "Mean loss:  tensor(0.5248)\n",
      "Accuracy:  0.8792\n",
      "Mean loss:  tensor(0.4814)\n",
      "Accuracy:  0.8885\n",
      "Mean loss:  tensor(0.4511)\n",
      "Accuracy:  0.891\n",
      "Mean loss:  tensor(0.4285)\n",
      "Accuracy:  0.8944\n",
      "Mean loss:  tensor(0.4110)\n",
      "Accuracy:  0.8985\n",
      "Mean loss:  tensor(0.3965)\n",
      "Accuracy:  0.8976\n",
      "Mean loss:  tensor(0.3848)\n",
      "Accuracy:  0.8984\n",
      "Mean loss:  tensor(0.3752)\n",
      "Accuracy:  0.8989\n",
      "Mean loss:  tensor(0.3664)\n",
      "Accuracy:  0.9026\n",
      "Mean loss:  tensor(0.3588)\n",
      "Accuracy:  0.9047\n",
      "Mean loss:  tensor(0.3523)\n",
      "Accuracy:  0.9075\n",
      "Mean loss:  tensor(0.3464)\n",
      "Accuracy:  0.899\n",
      "Mean loss:  tensor(0.3407)\n",
      "Accuracy:  0.9087\n",
      "Mean loss:  tensor(0.3357)\n",
      "Accuracy:  0.9073\n",
      "Mean loss:  tensor(0.3315)\n",
      "Accuracy:  0.9105\n"
     ]
    }
   ],
   "source": [
    "lr = 1e-2\n",
    "opt = SGD(simple_net.parameters(), lr)\n",
    "train_model(simple_net, 20)"
   ]
  },
  {
   "cell_type": "markdown",
   "metadata": {},
   "source": [
    "**Observation**: Our code above can classify two-ten MNIST digits (just change the MAX_CATEGORIES value and re-run the notebook). Yay! We have looked at using a linear classifier as well as a simple neural net with 2 linear layers and 1 ReLU in between them. After 20 epochs, we get ~90% accuracy for both \"network architectures\". We use our cross-entropy loss function `ce_loss`, the `batch_accuracy` functions as well as stochastic gradient descent (SGD) as our optimizer function."
   ]
  },
  {
   "cell_type": "markdown",
   "metadata": {},
   "source": [
    "### Lets try the built-in Learner class now with our loss and accuracy functions"
   ]
  },
  {
   "cell_type": "code",
   "execution_count": 50,
   "metadata": {},
   "outputs": [],
   "source": [
    "dls = DataLoaders(dl, valid_dl)"
   ]
  },
  {
   "cell_type": "markdown",
   "metadata": {},
   "source": [
    "Let's define simple_net so that we start training from scratch"
   ]
  },
  {
   "cell_type": "code",
   "execution_count": 53,
   "metadata": {},
   "outputs": [],
   "source": [
    "simple_net = nn.Sequential(\n",
    "    nn.Linear(28*28, 30),\n",
    "    nn.ReLU(),\n",
    "    nn.Linear(30,MAX_CATEGORIES)\n",
    ")"
   ]
  },
  {
   "cell_type": "code",
   "execution_count": 54,
   "metadata": {},
   "outputs": [],
   "source": [
    "learn = Learner(dls, simple_net, opt_func=SGD, loss_func=ce_loss, metrics=batch_accuracy)"
   ]
  },
  {
   "cell_type": "code",
   "execution_count": 55,
   "metadata": {
    "scrolled": true
   },
   "outputs": [
    {
     "data": {
      "text/html": [
       "<table border=\"1\" class=\"dataframe\">\n",
       "  <thead>\n",
       "    <tr style=\"text-align: left;\">\n",
       "      <th>epoch</th>\n",
       "      <th>train_loss</th>\n",
       "      <th>valid_loss</th>\n",
       "      <th>batch_accuracy</th>\n",
       "      <th>time</th>\n",
       "    </tr>\n",
       "  </thead>\n",
       "  <tbody>\n",
       "    <tr>\n",
       "      <td>0</td>\n",
       "      <td>1.983459</td>\n",
       "      <td>1.864117</td>\n",
       "      <td>0.558300</td>\n",
       "      <td>00:00</td>\n",
       "    </tr>\n",
       "    <tr>\n",
       "      <td>1</td>\n",
       "      <td>1.362842</td>\n",
       "      <td>1.218018</td>\n",
       "      <td>0.757100</td>\n",
       "      <td>00:00</td>\n",
       "    </tr>\n",
       "    <tr>\n",
       "      <td>2</td>\n",
       "      <td>0.917346</td>\n",
       "      <td>0.824246</td>\n",
       "      <td>0.828200</td>\n",
       "      <td>00:00</td>\n",
       "    </tr>\n",
       "    <tr>\n",
       "      <td>3</td>\n",
       "      <td>0.698222</td>\n",
       "      <td>0.642191</td>\n",
       "      <td>0.854000</td>\n",
       "      <td>00:00</td>\n",
       "    </tr>\n",
       "    <tr>\n",
       "      <td>4</td>\n",
       "      <td>0.584295</td>\n",
       "      <td>0.545529</td>\n",
       "      <td>0.867800</td>\n",
       "      <td>00:00</td>\n",
       "    </tr>\n",
       "    <tr>\n",
       "      <td>5</td>\n",
       "      <td>0.520027</td>\n",
       "      <td>0.487446</td>\n",
       "      <td>0.878200</td>\n",
       "      <td>00:00</td>\n",
       "    </tr>\n",
       "    <tr>\n",
       "      <td>6</td>\n",
       "      <td>0.474387</td>\n",
       "      <td>0.448316</td>\n",
       "      <td>0.885400</td>\n",
       "      <td>00:00</td>\n",
       "    </tr>\n",
       "    <tr>\n",
       "      <td>7</td>\n",
       "      <td>0.443602</td>\n",
       "      <td>0.420808</td>\n",
       "      <td>0.889300</td>\n",
       "      <td>00:00</td>\n",
       "    </tr>\n",
       "    <tr>\n",
       "      <td>8</td>\n",
       "      <td>0.427964</td>\n",
       "      <td>0.399631</td>\n",
       "      <td>0.893100</td>\n",
       "      <td>00:00</td>\n",
       "    </tr>\n",
       "    <tr>\n",
       "      <td>9</td>\n",
       "      <td>0.404308</td>\n",
       "      <td>0.383699</td>\n",
       "      <td>0.895300</td>\n",
       "      <td>00:00</td>\n",
       "    </tr>\n",
       "    <tr>\n",
       "      <td>10</td>\n",
       "      <td>0.394066</td>\n",
       "      <td>0.370683</td>\n",
       "      <td>0.897500</td>\n",
       "      <td>00:00</td>\n",
       "    </tr>\n",
       "    <tr>\n",
       "      <td>11</td>\n",
       "      <td>0.383982</td>\n",
       "      <td>0.359945</td>\n",
       "      <td>0.899700</td>\n",
       "      <td>00:00</td>\n",
       "    </tr>\n",
       "    <tr>\n",
       "      <td>12</td>\n",
       "      <td>0.371369</td>\n",
       "      <td>0.351005</td>\n",
       "      <td>0.901500</td>\n",
       "      <td>00:00</td>\n",
       "    </tr>\n",
       "    <tr>\n",
       "      <td>13</td>\n",
       "      <td>0.365749</td>\n",
       "      <td>0.342824</td>\n",
       "      <td>0.903500</td>\n",
       "      <td>00:00</td>\n",
       "    </tr>\n",
       "    <tr>\n",
       "      <td>14</td>\n",
       "      <td>0.356426</td>\n",
       "      <td>0.335881</td>\n",
       "      <td>0.904400</td>\n",
       "      <td>00:00</td>\n",
       "    </tr>\n",
       "    <tr>\n",
       "      <td>15</td>\n",
       "      <td>0.344545</td>\n",
       "      <td>0.329886</td>\n",
       "      <td>0.906900</td>\n",
       "      <td>00:00</td>\n",
       "    </tr>\n",
       "    <tr>\n",
       "      <td>16</td>\n",
       "      <td>0.335118</td>\n",
       "      <td>0.324293</td>\n",
       "      <td>0.907700</td>\n",
       "      <td>00:00</td>\n",
       "    </tr>\n",
       "    <tr>\n",
       "      <td>17</td>\n",
       "      <td>0.338555</td>\n",
       "      <td>0.319021</td>\n",
       "      <td>0.909500</td>\n",
       "      <td>00:00</td>\n",
       "    </tr>\n",
       "    <tr>\n",
       "      <td>18</td>\n",
       "      <td>0.331340</td>\n",
       "      <td>0.315188</td>\n",
       "      <td>0.911300</td>\n",
       "      <td>00:00</td>\n",
       "    </tr>\n",
       "    <tr>\n",
       "      <td>19</td>\n",
       "      <td>0.324022</td>\n",
       "      <td>0.310206</td>\n",
       "      <td>0.913600</td>\n",
       "      <td>00:00</td>\n",
       "    </tr>\n",
       "  </tbody>\n",
       "</table>"
      ],
      "text/plain": [
       "<IPython.core.display.HTML object>"
      ]
     },
     "metadata": {},
     "output_type": "display_data"
    }
   ],
   "source": [
    "learn.fit(20, 1e-2)"
   ]
  },
  {
   "cell_type": "markdown",
   "metadata": {},
   "source": [
    "We get >91% batch_accuracy with the built-in Learner function using our loss function `ce_loss` and our accuracy function `batch_accuracy`. "
   ]
  },
  {
   "cell_type": "markdown",
   "metadata": {},
   "source": [
    "### Let's try the built-in cnn_learner function from fastai next"
   ]
  },
  {
   "cell_type": "markdown",
   "metadata": {},
   "source": [
    "To use the built-in fastai library functions, we have to use the higher-level library functions to read in the data as tensors, split it into training and validation dataloaders, and perform any data augmentations to improve our accuracy. Now, we are starting to use the state-of-the-art instead of our own hand-written functions or their equivalents. We use the fastai `DataBlock` API to do all of the above. \n",
    "\n",
    "Note that the lines:\n",
    "    \n",
    "    item_tfms=Resize(32),\n",
    "    batch_tfms=aug_transforms(size=28, min_scale=0.75)\n",
    "     \n",
    "implement a fastai data augmentation strategy called **presizing**."
   ]
  },
  {
   "cell_type": "code",
   "execution_count": 56,
   "metadata": {},
   "outputs": [],
   "source": [
    "mnist = DataBlock(blocks=(ImageBlock, CategoryBlock),\n",
    "                  get_items=get_image_files,\n",
    "                  splitter=GrandparentSplitter(train_name=('training'), valid_name='testing'),\n",
    "                  get_y=parent_label,\n",
    "                  item_tfms=Resize(32),\n",
    "                  batch_tfms=aug_transforms(size=28, min_scale=0.75))"
   ]
  },
  {
   "cell_type": "code",
   "execution_count": 57,
   "metadata": {},
   "outputs": [],
   "source": [
    "dls = mnist.dataloaders(path)"
   ]
  },
  {
   "cell_type": "code",
   "execution_count": 58,
   "metadata": {},
   "outputs": [
    {
     "data": {
      "text/plain": [
       "(#60000) [(PILImage mode=RGB size=28x28, TensorCategory(9)),(PILImage mode=RGB size=28x28, TensorCategory(9)),(PILImage mode=RGB size=28x28, TensorCategory(9)),(PILImage mode=RGB size=28x28, TensorCategory(9)),(PILImage mode=RGB size=28x28, TensorCategory(9)),(PILImage mode=RGB size=28x28, TensorCategory(9)),(PILImage mode=RGB size=28x28, TensorCategory(9)),(PILImage mode=RGB size=28x28, TensorCategory(9)),(PILImage mode=RGB size=28x28, TensorCategory(9)),(PILImage mode=RGB size=28x28, TensorCategory(9))...]"
      ]
     },
     "execution_count": 58,
     "metadata": {},
     "output_type": "execute_result"
    }
   ],
   "source": [
    "dls.train_ds"
   ]
  },
  {
   "cell_type": "markdown",
   "metadata": {},
   "source": [
    "Training dataset shows 60000 tensors corresponding to the 60000 images as expected."
   ]
  },
  {
   "cell_type": "code",
   "execution_count": 59,
   "metadata": {},
   "outputs": [
    {
     "data": {
      "text/plain": [
       "(#10000) [(PILImage mode=RGB size=28x28, TensorCategory(9)),(PILImage mode=RGB size=28x28, TensorCategory(9)),(PILImage mode=RGB size=28x28, TensorCategory(9)),(PILImage mode=RGB size=28x28, TensorCategory(9)),(PILImage mode=RGB size=28x28, TensorCategory(9)),(PILImage mode=RGB size=28x28, TensorCategory(9)),(PILImage mode=RGB size=28x28, TensorCategory(9)),(PILImage mode=RGB size=28x28, TensorCategory(9)),(PILImage mode=RGB size=28x28, TensorCategory(9)),(PILImage mode=RGB size=28x28, TensorCategory(9))...]"
      ]
     },
     "execution_count": 59,
     "metadata": {},
     "output_type": "execute_result"
    }
   ],
   "source": [
    "dls.valid_ds"
   ]
  },
  {
   "cell_type": "markdown",
   "metadata": {},
   "source": [
    "Validation dataset shows 10000 tensors corresponding to the 10000 images as expected."
   ]
  },
  {
   "cell_type": "code",
   "execution_count": 60,
   "metadata": {},
   "outputs": [],
   "source": [
    "x,y = dls.one_batch()"
   ]
  },
  {
   "cell_type": "code",
   "execution_count": 61,
   "metadata": {},
   "outputs": [
    {
     "data": {
      "text/plain": [
       "TensorCategory([1, 3, 9, 2, 1, 3, 9, 6, 6, 4, 4, 3, 6, 2, 9, 6, 4, 3, 7, 6, 3, 6, 1, 7, 4, 6, 8, 4, 8, 3, 0, 2, 9, 4, 1, 6, 6, 2, 8, 0, 5, 6, 4, 2, 7, 3, 2, 6, 4, 2, 5, 1, 2, 1, 6, 3, 8, 9, 3, 9, 1, 4, 0, 8],\n",
       "       device='cuda:0')"
      ]
     },
     "execution_count": 61,
     "metadata": {},
     "output_type": "execute_result"
    }
   ],
   "source": [
    "y"
   ]
  },
  {
   "cell_type": "markdown",
   "metadata": {},
   "source": [
    "Our default batch size is 64 so the `y` (dependent variable or labels) tensor shows 64 rows. Each row is a single integer between 0 and 9, representing the ten possible digits. \n",
    "\n",
    "Let's use the built-in `show_batch` function to look at the data."
   ]
  },
  {
   "cell_type": "code",
   "execution_count": 62,
   "metadata": {},
   "outputs": [
    {
     "data": {
      "image/png": "[encoded data removed]",
      "text/plain": [
       "<Figure size 1080x216 with 5 Axes>"
      ]
     },
     "metadata": {
      "needs_background": "light"
     },
     "output_type": "display_data"
    }
   ],
   "source": [
    "dls.show_batch(nrows=1, ncols=5)"
   ]
  },
  {
   "cell_type": "markdown",
   "metadata": {},
   "source": [
    "### Using the cnn_learner with the resnet18 network, cross-entropy loss, and the built-in accuracy function"
   ]
  },
  {
   "cell_type": "code",
   "execution_count": 85,
   "metadata": {},
   "outputs": [],
   "source": [
    "learn = cnn_learner(dls, resnet18, pretrained=False, metrics=accuracy)"
   ]
  },
  {
   "cell_type": "code",
   "execution_count": 86,
   "metadata": {},
   "outputs": [
    {
     "data": {
      "text/plain": [
       "FlattenedLoss of CrossEntropyLoss()"
      ]
     },
     "execution_count": 86,
     "metadata": {},
     "output_type": "execute_result"
    }
   ],
   "source": [
    "learn.loss_func"
   ]
  },
  {
   "cell_type": "markdown",
   "metadata": {},
   "source": [
    "Let's use the built-in [learning rate finder](https://arxiv.org/abs/1506.01186) to find a good learning rate to use while training."
   ]
  },
  {
   "cell_type": "code",
   "execution_count": 87,
   "metadata": {},
   "outputs": [
    {
     "data": {
      "text/html": [],
      "text/plain": [
       "<IPython.core.display.HTML object>"
      ]
     },
     "metadata": {},
     "output_type": "display_data"
    },
    {
     "data": {
      "image/png": "[encoded data removed]",
      "text/plain": [
       "<Figure size 432x288 with 1 Axes>"
      ]
     },
     "metadata": {
      "needs_background": "light"
     },
     "output_type": "display_data"
    }
   ],
   "source": [
    "lr_min, lr_steep = learn.lr_find()"
   ]
  },
  {
   "cell_type": "code",
   "execution_count": 88,
   "metadata": {},
   "outputs": [
    {
     "name": "stdout",
     "output_type": "stream",
     "text": [
      "Minimum/10: 1.45e-02, steepest point: 2.09e-03\n"
     ]
    }
   ],
   "source": [
    "print(f\"Minimum/10: {lr_min:.2e}, steepest point: {lr_steep:.2e}\")"
   ]
  },
  {
   "cell_type": "markdown",
   "metadata": {},
   "source": [
    "We can see in the plot above that the loss does not start decreasing till around 1e-4. Nothing really happens from 1e-7 to 1e-4. Beyond 1e-4, it decreases till around 1e-1, beyond which it starts increasing. We don't want a learning rate greater than 1e-1.\n",
    "\n",
    "The number `lr_min` is the learning rate that is an order-of-magnitude lower than the learning rate where the minimum loss was achieved. The number `lr_steep` is the last learning rate where the loss was clearly decreasing. The textbook asks us to pick one of these values or a learning rate around these values as a rule-of-thumb to pick a good learning rate. We pick lr=3e-3."
   ]
  },
  {
   "cell_type": "code",
   "execution_count": 89,
   "metadata": {},
   "outputs": [
    {
     "data": {
      "text/html": [
       "<table border=\"1\" class=\"dataframe\">\n",
       "  <thead>\n",
       "    <tr style=\"text-align: left;\">\n",
       "      <th>epoch</th>\n",
       "      <th>train_loss</th>\n",
       "      <th>valid_loss</th>\n",
       "      <th>accuracy</th>\n",
       "      <th>time</th>\n",
       "    </tr>\n",
       "  </thead>\n",
       "  <tbody>\n",
       "    <tr>\n",
       "      <td>0</td>\n",
       "      <td>1.388402</td>\n",
       "      <td>0.986175</td>\n",
       "      <td>0.662500</td>\n",
       "      <td>01:17</td>\n",
       "    </tr>\n",
       "  </tbody>\n",
       "</table>"
      ],
      "text/plain": [
       "<IPython.core.display.HTML object>"
      ]
     },
     "metadata": {},
     "output_type": "display_data"
    },
    {
     "data": {
      "text/html": [
       "<table border=\"1\" class=\"dataframe\">\n",
       "  <thead>\n",
       "    <tr style=\"text-align: left;\">\n",
       "      <th>epoch</th>\n",
       "      <th>train_loss</th>\n",
       "      <th>valid_loss</th>\n",
       "      <th>accuracy</th>\n",
       "      <th>time</th>\n",
       "    </tr>\n",
       "  </thead>\n",
       "  <tbody>\n",
       "    <tr>\n",
       "      <td>0</td>\n",
       "      <td>0.527460</td>\n",
       "      <td>0.295732</td>\n",
       "      <td>0.902100</td>\n",
       "      <td>01:25</td>\n",
       "    </tr>\n",
       "    <tr>\n",
       "      <td>1</td>\n",
       "      <td>0.352126</td>\n",
       "      <td>0.209375</td>\n",
       "      <td>0.933000</td>\n",
       "      <td>01:26</td>\n",
       "    </tr>\n",
       "    <tr>\n",
       "      <td>2</td>\n",
       "      <td>0.219266</td>\n",
       "      <td>0.118308</td>\n",
       "      <td>0.960500</td>\n",
       "      <td>01:26</td>\n",
       "    </tr>\n",
       "    <tr>\n",
       "      <td>3</td>\n",
       "      <td>0.168536</td>\n",
       "      <td>0.099059</td>\n",
       "      <td>0.967900</td>\n",
       "      <td>01:25</td>\n",
       "    </tr>\n",
       "    <tr>\n",
       "      <td>4</td>\n",
       "      <td>0.163802</td>\n",
       "      <td>0.084118</td>\n",
       "      <td>0.972600</td>\n",
       "      <td>01:28</td>\n",
       "    </tr>\n",
       "  </tbody>\n",
       "</table>"
      ],
      "text/plain": [
       "<IPython.core.display.HTML object>"
      ]
     },
     "metadata": {},
     "output_type": "display_data"
    }
   ],
   "source": [
    "learn.fine_tune(5, base_lr=3e-3)"
   ]
  },
  {
   "cell_type": "markdown",
   "metadata": {},
   "source": [
    "Wow! Just like that, we are at 97.26% accuracy. Let's save this model for future use/training/refining. Note that the world record for MNIST right now is 99.75% accuracy (https://www.kaggle.com/c/digit-recognizer/discussion/61480). We can try to achieve higher accuracy by training for longer and also using discriminative learning rates. More on that later."
   ]
  },
  {
   "cell_type": "code",
   "execution_count": 90,
   "metadata": {},
   "outputs": [
    {
     "data": {
      "text/plain": [
       "Path('models/mnist-full-resnet18-best.pth')"
      ]
     },
     "execution_count": 90,
     "metadata": {},
     "output_type": "execute_result"
    }
   ],
   "source": [
    "learn.save(\"mnist-full-resnet18-best\")"
   ]
  },
  {
   "cell_type": "markdown",
   "metadata": {},
   "source": [
    "### Model Interpretation"
   ]
  },
  {
   "cell_type": "markdown",
   "metadata": {},
   "source": [
    "Let's now explore fastai's built-in functions to interpret how our model does. Note that the textbook says that loss functions are very hard to interpret as they designed for computers to differentiate and optimize, and not something that people can understand. This is what metrics (such as accuracy are for). In this case, our accuracy is looking pretty good already but where are we making mistakes? \n",
    "\n",
    "We can use a `confusion matrix` to see where our model is doing well and where its doing badly. We can also use the `plot_top_losses` function and the `most_confused` function to interpret our model results."
   ]
  },
  {
   "cell_type": "code",
   "execution_count": 91,
   "metadata": {},
   "outputs": [
    {
     "data": {
      "text/html": [],
      "text/plain": [
       "<IPython.core.display.HTML object>"
      ]
     },
     "metadata": {},
     "output_type": "display_data"
    },
    {
     "data": {
      "image/png": "[encoded data removed]",
      "text/plain": [
       "<Figure size 720x720 with 1 Axes>"
      ]
     },
     "metadata": {
      "needs_background": "light"
     },
     "output_type": "display_data"
    }
   ],
   "source": [
    "#width 600\n",
    "interp = ClassificationInterpretation.from_learner(learn)\n",
    "interp.plot_confusion_matrix(figsize=(12,12), dpi=60)"
   ]
  },
  {
   "cell_type": "code",
   "execution_count": 92,
   "metadata": {},
   "outputs": [
    {
     "data": {
      "text/plain": [
       "[('2', '5', 20),\n",
       " ('5', '2', 13),\n",
       " ('4', '9', 11),\n",
       " ('5', '3', 11),\n",
       " ('2', '6', 10),\n",
       " ('6', '2', 10),\n",
       " ('6', '5', 9),\n",
       " ('7', '2', 9),\n",
       " ('0', '6', 8),\n",
       " ('9', '7', 8),\n",
       " ('3', '5', 7),\n",
       " ('3', '8', 7),\n",
       " ('6', '4', 7),\n",
       " ('8', '3', 7),\n",
       " ('7', '9', 6),\n",
       " ('8', '5', 6),\n",
       " ('8', '9', 6),\n",
       " ('9', '3', 6),\n",
       " ('9', '4', 6),\n",
       " ('2', '3', 5),\n",
       " ('9', '8', 5),\n",
       " ('0', '7', 4),\n",
       " ('2', '7', 4),\n",
       " ('5', '7', 4),\n",
       " ('6', '0', 4),\n",
       " ('9', '5', 4),\n",
       " ('0', '9', 3),\n",
       " ('1', '2', 3),\n",
       " ('2', '1', 3),\n",
       " ('2', '8', 3),\n",
       " ('3', '2', 3),\n",
       " ('6', '8', 3),\n",
       " ('7', '3', 3),\n",
       " ('7', '4', 3),\n",
       " ('7', '5', 3),\n",
       " ('8', '2', 3),\n",
       " ('0', '2', 2),\n",
       " ('0', '4', 2),\n",
       " ('0', '5', 2),\n",
       " ('1', '3', 2),\n",
       " ('2', '0', 2),\n",
       " ('3', '7', 2),\n",
       " ('4', '7', 2),\n",
       " ('4', '8', 2),\n",
       " ('5', '6', 2),\n",
       " ('5', '9', 2),\n",
       " ('6', '3', 2),\n",
       " ('7', '1', 2),\n",
       " ('7', '8', 2),\n",
       " ('8', '4', 2),\n",
       " ('9', '2', 2),\n",
       " ('0', '3', 1),\n",
       " ('0', '8', 1),\n",
       " ('1', '4', 1),\n",
       " ('1', '7', 1),\n",
       " ('2', '4', 1),\n",
       " ('3', '6', 1),\n",
       " ('4', '2', 1),\n",
       " ('4', '6', 1),\n",
       " ('5', '1', 1),\n",
       " ('5', '4', 1),\n",
       " ('5', '8', 1),\n",
       " ('6', '1', 1),\n",
       " ('8', '0', 1),\n",
       " ('8', '6', 1),\n",
       " ('8', '7', 1),\n",
       " ('9', '0', 1),\n",
       " ('9', '1', 1)]"
      ]
     },
     "execution_count": 92,
     "metadata": {},
     "output_type": "execute_result"
    }
   ],
   "source": [
    "interp.most_confused()"
   ]
  },
  {
   "cell_type": "code",
   "execution_count": 93,
   "metadata": {},
   "outputs": [
    {
     "data": {
      "image/png": "[encoded data removed]",
      "text/plain": [
       "<Figure size 504x504 with 9 Axes>"
      ]
     },
     "metadata": {
      "needs_background": "light"
     },
     "output_type": "display_data"
    }
   ],
   "source": [
    "interp.plot_top_losses(9, figsize=(7,7))"
   ]
  },
  {
   "cell_type": "markdown",
   "metadata": {},
   "source": [
    "### Ok, back to improving the model to get higher accuracy"
   ]
  },
  {
   "cell_type": "code",
   "execution_count": 94,
   "metadata": {},
   "outputs": [
    {
     "data": {
      "text/html": [],
      "text/plain": [
       "<IPython.core.display.HTML object>"
      ]
     },
     "metadata": {},
     "output_type": "display_data"
    },
    {
     "name": "stdout",
     "output_type": "stream",
     "text": [
      "Minimum/10: 1.20e-06, steepest point: 1.10e-06\n"
     ]
    },
    {
     "data": {
      "image/png": "[encoded data removed]",
      "text/plain": [
       "<Figure size 432x288 with 1 Axes>"
      ]
     },
     "metadata": {
      "needs_background": "light"
     },
     "output_type": "display_data"
    }
   ],
   "source": [
    "lr_min, lr_steep = learn.lr_find()\n",
    "print(f\"Minimum/10: {lr_min:.2e}, steepest point: {lr_steep:.2e}\")"
   ]
  },
  {
   "cell_type": "code",
   "execution_count": 95,
   "metadata": {},
   "outputs": [
    {
     "data": {
      "text/html": [
       "<table border=\"1\" class=\"dataframe\">\n",
       "  <thead>\n",
       "    <tr style=\"text-align: left;\">\n",
       "      <th>epoch</th>\n",
       "      <th>train_loss</th>\n",
       "      <th>valid_loss</th>\n",
       "      <th>accuracy</th>\n",
       "      <th>time</th>\n",
       "    </tr>\n",
       "  </thead>\n",
       "  <tbody>\n",
       "    <tr>\n",
       "      <td>0</td>\n",
       "      <td>0.152826</td>\n",
       "      <td>0.079877</td>\n",
       "      <td>0.973900</td>\n",
       "      <td>01:26</td>\n",
       "    </tr>\n",
       "    <tr>\n",
       "      <td>1</td>\n",
       "      <td>0.152671</td>\n",
       "      <td>0.081461</td>\n",
       "      <td>0.973200</td>\n",
       "      <td>01:25</td>\n",
       "    </tr>\n",
       "    <tr>\n",
       "      <td>2</td>\n",
       "      <td>0.135455</td>\n",
       "      <td>0.082590</td>\n",
       "      <td>0.973800</td>\n",
       "      <td>01:25</td>\n",
       "    </tr>\n",
       "    <tr>\n",
       "      <td>3</td>\n",
       "      <td>0.138111</td>\n",
       "      <td>0.072592</td>\n",
       "      <td>0.976900</td>\n",
       "      <td>01:26</td>\n",
       "    </tr>\n",
       "    <tr>\n",
       "      <td>4</td>\n",
       "      <td>0.134190</td>\n",
       "      <td>0.072886</td>\n",
       "      <td>0.977200</td>\n",
       "      <td>01:26</td>\n",
       "    </tr>\n",
       "  </tbody>\n",
       "</table>"
      ],
      "text/plain": [
       "<IPython.core.display.HTML object>"
      ]
     },
     "metadata": {},
     "output_type": "display_data"
    }
   ],
   "source": [
    "learn.fit_one_cycle(5, lr_max=slice(1e-6,1e-4))"
   ]
  },
  {
   "cell_type": "code",
   "execution_count": null,
   "metadata": {},
   "outputs": [],
   "source": [
    "learn.save(\"mnist-full-resnet18-best\")"
   ]
  },
  {
   "cell_type": "code",
   "execution_count": null,
   "metadata": {},
   "outputs": [],
   "source": []
  }
 ],
 "metadata": {
  "kernelspec": {
   "display_name": "Python 3",
   "language": "python",
   "name": "python3"
  },
  "language_info": {
   "codemirror_mode": {
    "name": "ipython",
    "version": 3
   },
   "file_extension": ".py",
   "mimetype": "text/x-python",
   "name": "python",
   "nbconvert_exporter": "python",
   "pygments_lexer": "ipython3",
   "version": "3.8.2"
  }
 },
 "nbformat": 4,
 "nbformat_minor": 4
}
